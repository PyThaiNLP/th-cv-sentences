{
 "cells": [
  {
   "cell_type": "markdown",
   "id": "5e5375ec",
   "metadata": {},
   "source": [
    "# Get company names from stock exchange list\n",
    "\n",
    "ดึงชื่อบริษัทและกองทุนจากรายชื่อของตลาดหลักทรัพย์\n",
    "https://www.set.or.th/set/commonslookup.do?language=th&country=TH"
   ]
  },
  {
   "cell_type": "code",
   "execution_count": 1,
   "id": "b03a5a05",
   "metadata": {},
   "outputs": [],
   "source": [
    "import re\n",
    "\n",
    "def normalize(text):\n",
    "    text = text.strip()\n",
    "    text = re.sub(r\"[\\(\\)]\", \"\", text)\n",
    "    text = re.sub(r\"\\.\", \" \", text)\n",
    "    text = re.sub(r\"  \", \" \", text)\n",
    "    text = text.strip()\n",
    "    return text\n",
    "\n",
    "CORP_RE = r\"บริษัท(.*)จำกัด\"\n",
    "TRUST_RE = r\"(กองทุน|ทรัสต์)([^\\s]+)\"\n",
    "\n",
    "IN_FILENAME = \"stocks-raw.txt\"\n",
    "OUT_FILENAME = \"stocks.txt\"\n",
    "\n",
    "orgs = set()\n",
    "\n",
    "with open(IN_FILENAME, \"r\") as fh:\n",
    "    for line in fh.readlines():\n",
    "        m = re.search(CORP_RE, line)\n",
    "        if m:\n",
    "            text = normalize(m.group(1))\n",
    "            if text:\n",
    "                orgs.add(text)\n",
    "        else:\n",
    "            m = re.search(TRUST_RE, line)\n",
    "            if m:\n",
    "                text = normalize(m.group(0))\n",
    "                if text:\n",
    "                    orgs.add(text)\n",
    "\n",
    "orgs = sorted(list(orgs))\n",
    "with open(OUT_FILENAME, \"w\") as fh:\n",
    "    for org in orgs:\n",
    "        fh.write(org)\n",
    "        fh.write(\"\\n\")"
   ]
  },
  {
   "cell_type": "code",
   "execution_count": null,
   "id": "5245a148",
   "metadata": {},
   "outputs": [],
   "source": []
  }
 ],
 "metadata": {
  "kernelspec": {
   "display_name": "Python 3",
   "language": "python",
   "name": "python3"
  },
  "language_info": {
   "codemirror_mode": {
    "name": "ipython",
    "version": 3
   },
   "file_extension": ".py",
   "mimetype": "text/x-python",
   "name": "python",
   "nbconvert_exporter": "python",
   "pygments_lexer": "ipython3",
   "version": "3.9.4"
  }
 },
 "nbformat": 4,
 "nbformat_minor": 5
}
